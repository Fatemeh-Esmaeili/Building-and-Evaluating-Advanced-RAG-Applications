{
 "cells": [
  {
   "cell_type": "markdown",
   "id": "a9bff53e",
   "metadata": {},
   "source": [
    "# Lesson 1: Advanced RAG Pipeline"
   ]
  },
  {
   "cell_type": "code",
   "execution_count": 1,
   "id": "feb98470-c136-471d-a63e-d50d8eb09c57",
   "metadata": {
    "height": 98,
    "tags": []
   },
   "outputs": [
    {
     "name": "stdout",
     "output_type": "stream",
     "text": [
      "✅ In Answer Relevance, input prompt will be set to __record__.main_input or `Select.RecordInput` .\n",
      "✅ In Answer Relevance, input response will be set to __record__.main_output or `Select.RecordOutput` .\n",
      "✅ In Context Relevance, input prompt will be set to __record__.main_input or `Select.RecordInput` .\n",
      "✅ In Context Relevance, input response will be set to __record__.app.query.rets.source_nodes[:].node.text .\n",
      "✅ In Groundedness, input source will be set to __record__.app.query.rets.source_nodes[:].node.text .\n",
      "✅ In Groundedness, input statement will be set to __record__.main_output or `Select.RecordOutput` .\n"
     ]
    }
   ],
   "source": [
    "import utils\n",
    "\n",
    "import os\n",
    "import openai\n",
    "openai.api_key = utils.get_openai_api_key()"
   ]
  },
  {
   "cell_type": "code",
   "execution_count": 2,
   "id": "31e2859b-596e-40b3-867b-f4d6e91f74bc",
   "metadata": {
    "height": 98,
    "tags": []
   },
   "outputs": [],
   "source": [
    "from llama_index import SimpleDirectoryReader\n",
    "\n",
    "documents = SimpleDirectoryReader(\n",
    "    input_files=[\"./bioengineering-2247773.pdf\"]\n",
    ").load_data()"
   ]
  },
  {
   "cell_type": "code",
   "execution_count": 3,
   "id": "2d7d0857-b9d1-4feb-8243-bfd2f4953acd",
   "metadata": {
    "height": 81,
    "tags": []
   },
   "outputs": [
    {
     "name": "stdout",
     "output_type": "stream",
     "text": [
      "<class 'list'> \n",
      "\n",
      "30 \n",
      "\n",
      "<class 'llama_index.schema.Document'>\n",
      "Doc ID: 064feac3-d7ae-44e2-b744-5663a5a0b349\n",
      "Text: Citation: Esmaeili, F.; Cassie, E.; Nguyen, H.P .T.; Plank,\n",
      "N.O.V .; Unsworth, C.P .; Wang, A. Anomaly Detection for Sensor\n",
      "Signals Utilizing Deep Learning Autoencoder-Based Neural Networks.\n",
      "Bioengineering 2023 ,1, 0. https://doi.org/ Academic Editor: First\n",
      "name Lastname Received: 13 February 2023 Revised: 7 March 2023\n",
      "Accepted: 22 March 2023 Pu...\n"
     ]
    }
   ],
   "source": [
    "print(type(documents), \"\\n\")\n",
    "print(len(documents), \"\\n\")\n",
    "print(type(documents[0]))\n",
    "print(documents[0])"
   ]
  },
  {
   "cell_type": "markdown",
   "id": "f3123d3d",
   "metadata": {},
   "source": [
    "## Basic RAG pipeline"
   ]
  },
  {
   "cell_type": "code",
   "execution_count": 4,
   "id": "b4abc806-64f5-46bb-8c9f-6469ecb18d20",
   "metadata": {
    "height": 64,
    "tags": []
   },
   "outputs": [],
   "source": [
    "# Merge all of this content (= multiple document chunks) \n",
    "# into a single large document rather than having \n",
    "# one document per page which is the default set-up\n",
    "\n",
    "from llama_index import Document\n",
    "\n",
    "document = Document(text=\"\\n\\n\".join([doc.text for doc in documents]))"
   ]
  },
  {
   "cell_type": "code",
   "execution_count": 5,
   "id": "afc2baff-5e8b-4733-9899-16f248777b23",
   "metadata": {
    "height": 183,
    "tags": []
   },
   "outputs": [],
   "source": [
    "# Ingestion Pipeline\n",
    "\n",
    "from llama_index import VectorStoreIndex\n",
    "from llama_index import ServiceContext\n",
    "from llama_index.llms import OpenAI\n",
    "\n",
    "llm = OpenAI(model=\"gpt-3.5-turbo\", temperature=0.1)\n",
    "service_context = ServiceContext.from_defaults(\n",
    "    llm=llm, embed_model=\"local:BAAI/bge-small-en-v1.5\"\n",
    ")\n",
    "index = VectorStoreIndex.from_documents([document],\n",
    "                                        service_context=service_context)"
   ]
  },
  {
   "cell_type": "code",
   "execution_count": 6,
   "id": "ae52a26c-7d0c-44df-8043-4c7f19f794b9",
   "metadata": {
    "height": 30,
    "tags": []
   },
   "outputs": [],
   "source": [
    "query_engine = index.as_query_engine()"
   ]
  },
  {
   "cell_type": "code",
   "execution_count": 7,
   "id": "6b0d5b6e-cc2e-4648-b28c-5fa25a97d175",
   "metadata": {
    "height": 141,
    "tags": []
   },
   "outputs": [
    {
     "name": "stdout",
     "output_type": "stream",
     "text": [
      "F1-score and accuracy were the performance metrics applied in this paper.\n"
     ]
    }
   ],
   "source": [
    "response = query_engine.query(\n",
    "    \"What are performance metrics applied in this paper?\"\n",
    ")\n",
    "print(str(response))"
   ]
  },
  {
   "cell_type": "markdown",
   "id": "e50a1ac5",
   "metadata": {},
   "source": [
    "## Evaluation setup using TruLens"
   ]
  },
  {
   "cell_type": "code",
   "execution_count": 8,
   "id": "0ead7dc1-71b2-4001-918f-bf8d610fd3fd",
   "metadata": {
    "height": 132,
    "tags": []
   },
   "outputs": [
    {
     "name": "stdout",
     "output_type": "stream",
     "text": [
      "What is the name of article?\n",
      "How the writer used the AI method?\n",
      "What is the contribution of this paper?\n",
      "Who are the authors?\n",
      "How many networks have been applied in this paper?\n",
      "What deep learning methods has been applied?\n",
      "What is the result of the paper?\n"
     ]
    }
   ],
   "source": [
    "eval_questions = []\n",
    "with open('eval_questions.txt', 'r') as file:\n",
    "    for line in file:\n",
    "        # Remove newline character and convert to integer\n",
    "        item = line.strip()\n",
    "        print(item)\n",
    "        eval_questions.append(item)"
   ]
  },
  {
   "cell_type": "code",
   "execution_count": 9,
   "id": "87a278f8",
   "metadata": {
    "height": 64
   },
   "outputs": [],
   "source": [
    "# You can try your own question:\n",
    "new_question = \"What are the contributions of this paper?\"\n",
    "eval_questions.append(new_question)"
   ]
  },
  {
   "cell_type": "code",
   "execution_count": 10,
   "id": "8d5204e8",
   "metadata": {
    "height": 30
   },
   "outputs": [
    {
     "name": "stdout",
     "output_type": "stream",
     "text": [
      "['What is the name of article?', 'How the writer used the AI method?', 'What is the contribution of this paper?', 'Who are the authors?', 'How many networks have been applied in this paper?', 'What deep learning methods has been applied?', 'What is the result of the paper?', 'What are the contributions of this paper?']\n"
     ]
    }
   ],
   "source": [
    "print(eval_questions)"
   ]
  },
  {
   "cell_type": "code",
   "execution_count": 11,
   "id": "c063c9c7-bf1e-4b24-9a22-d4281c0f954e",
   "metadata": {
    "height": 81,
    "tags": []
   },
   "outputs": [
    {
     "name": "stdout",
     "output_type": "stream",
     "text": [
      "🦑 Tru initialized with db url sqlite:///default.sqlite .\n",
      "🛑 Secret keys may be written to the database. See the `database_redact_keys` option of `Tru` to prevent this.\n"
     ]
    }
   ],
   "source": [
    "from trulens_eval import Tru\n",
    "tru = Tru()\n",
    "\n",
    "tru.reset_database()"
   ]
  },
  {
   "cell_type": "markdown",
   "id": "03802825-6ce4-4563-aeec-d8d57e095ad1",
   "metadata": {},
   "source": [
    "For the classroom, we've written some of the code in helper functions inside a utils.py file.  \n",
    "- You can view the utils.py file in the file directory by clicking on the \"Jupyter\" logo at the top of the notebook.\n",
    "- In later lessons, you'll get to work directly with the code that's currently wrapped inside these helper functions, to give you more options to customize your RAG pipeline."
   ]
  },
  {
   "cell_type": "code",
   "execution_count": 12,
   "id": "4f754bed-d16f-4c8d-a1a1-b36096272570",
   "metadata": {
    "height": 81,
    "tags": []
   },
   "outputs": [],
   "source": [
    "from utils import get_prebuilt_trulens_recorder\n",
    "\n",
    "tru_recorder = get_prebuilt_trulens_recorder(query_engine,\n",
    "                                             app_id=\"Direct Query Engine\")"
   ]
  },
  {
   "cell_type": "code",
   "execution_count": 13,
   "id": "4dbdfbcc-aac7-4805-9894-4fc016c66bf6",
   "metadata": {
    "height": 64,
    "tags": []
   },
   "outputs": [],
   "source": [
    "with tru_recorder as recording:\n",
    "    for question in eval_questions:\n",
    "        response = query_engine.query(question)"
   ]
  },
  {
   "cell_type": "code",
   "execution_count": 14,
   "id": "e14f512b-601c-42d0-bfac-bf41d9c577e7",
   "metadata": {
    "height": 30,
    "tags": []
   },
   "outputs": [],
   "source": [
    "records, feedback = tru.get_records_and_feedback(app_ids=[])"
   ]
  },
  {
   "cell_type": "code",
   "execution_count": 15,
   "id": "2da4a602-0d56-4bf8-9fa6-03ef0b7e254b",
   "metadata": {
    "height": 30,
    "tags": []
   },
   "outputs": [
    {
     "data": {
      "text/html": [
       "<div>\n",
       "<style scoped>\n",
       "    .dataframe tbody tr th:only-of-type {\n",
       "        vertical-align: middle;\n",
       "    }\n",
       "\n",
       "    .dataframe tbody tr th {\n",
       "        vertical-align: top;\n",
       "    }\n",
       "\n",
       "    .dataframe thead th {\n",
       "        text-align: right;\n",
       "    }\n",
       "</style>\n",
       "<table border=\"1\" class=\"dataframe\">\n",
       "  <thead>\n",
       "    <tr style=\"text-align: right;\">\n",
       "      <th></th>\n",
       "      <th>app_id</th>\n",
       "      <th>app_json</th>\n",
       "      <th>type</th>\n",
       "      <th>record_id</th>\n",
       "      <th>input</th>\n",
       "      <th>output</th>\n",
       "      <th>tags</th>\n",
       "      <th>record_json</th>\n",
       "      <th>cost_json</th>\n",
       "      <th>perf_json</th>\n",
       "      <th>ts</th>\n",
       "      <th>Answer Relevance</th>\n",
       "      <th>Context Relevance</th>\n",
       "      <th>Groundedness</th>\n",
       "      <th>Answer Relevance_calls</th>\n",
       "      <th>Context Relevance_calls</th>\n",
       "      <th>Groundedness_calls</th>\n",
       "      <th>latency</th>\n",
       "      <th>total_tokens</th>\n",
       "      <th>total_cost</th>\n",
       "    </tr>\n",
       "  </thead>\n",
       "  <tbody>\n",
       "    <tr>\n",
       "      <th>0</th>\n",
       "      <td>Direct Query Engine</td>\n",
       "      <td>{\"app_id\": \"Direct Query Engine\", \"tags\": \"-\",...</td>\n",
       "      <td>RetrieverQueryEngine(llama_index.query_engine....</td>\n",
       "      <td>record_hash_2b59c07e0679ca198a0516c583a03434</td>\n",
       "      <td>\"What is the name of article?\"</td>\n",
       "      <td>\"An overview of deep learning based methods fo...</td>\n",
       "      <td>-</td>\n",
       "      <td>{\"record_id\": \"record_hash_2b59c07e0679ca198a0...</td>\n",
       "      <td>{\"n_requests\": 1, \"n_successful_requests\": 1, ...</td>\n",
       "      <td>{\"start_time\": \"2025-05-16T01:17:06.156091\", \"...</td>\n",
       "      <td>2025-05-16T01:17:06.869123</td>\n",
       "      <td>1.0</td>\n",
       "      <td>0.2</td>\n",
       "      <td>0.300</td>\n",
       "      <td>[{'args': {'prompt': 'What is the name of arti...</td>\n",
       "      <td>[{'args': {'prompt': 'What is the name of arti...</td>\n",
       "      <td>[{'args': {'source': 'AC refers to the analyte...</td>\n",
       "      <td>0</td>\n",
       "      <td>2035</td>\n",
       "      <td>0.003063</td>\n",
       "    </tr>\n",
       "    <tr>\n",
       "      <th>1</th>\n",
       "      <td>Direct Query Engine</td>\n",
       "      <td>{\"app_id\": \"Direct Query Engine\", \"tags\": \"-\",...</td>\n",
       "      <td>RetrieverQueryEngine(llama_index.query_engine....</td>\n",
       "      <td>record_hash_ca7b081306336b34de5e12410343f443</td>\n",
       "      <td>\"How the writer used the AI method?\"</td>\n",
       "      <td>\"The writer utilized deep learning autoencoder...</td>\n",
       "      <td>-</td>\n",
       "      <td>{\"record_id\": \"record_hash_ca7b081306336b34de5...</td>\n",
       "      <td>{\"n_requests\": 1, \"n_successful_requests\": 1, ...</td>\n",
       "      <td>{\"start_time\": \"2025-05-16T01:17:06.989329\", \"...</td>\n",
       "      <td>2025-05-16T01:17:08.375627</td>\n",
       "      <td>1.0</td>\n",
       "      <td>1.0</td>\n",
       "      <td>0.975</td>\n",
       "      <td>[{'args': {'prompt': 'How the writer used the ...</td>\n",
       "      <td>[{'args': {'prompt': 'How the writer used the ...</td>\n",
       "      <td>[{'args': {'source': 'Citation: Esmaeili, F.; ...</td>\n",
       "      <td>1</td>\n",
       "      <td>2219</td>\n",
       "      <td>0.003386</td>\n",
       "    </tr>\n",
       "    <tr>\n",
       "      <th>2</th>\n",
       "      <td>Direct Query Engine</td>\n",
       "      <td>{\"app_id\": \"Direct Query Engine\", \"tags\": \"-\",...</td>\n",
       "      <td>RetrieverQueryEngine(llama_index.query_engine....</td>\n",
       "      <td>record_hash_0eefc81a3fb9f0e5a9a6ba01f0799959</td>\n",
       "      <td>\"What is the contribution of this paper?\"</td>\n",
       "      <td>\"The contribution of this paper lies in utiliz...</td>\n",
       "      <td>-</td>\n",
       "      <td>{\"record_id\": \"record_hash_0eefc81a3fb9f0e5a9a...</td>\n",
       "      <td>{\"n_requests\": 1, \"n_successful_requests\": 1, ...</td>\n",
       "      <td>{\"start_time\": \"2025-05-16T01:17:08.487419\", \"...</td>\n",
       "      <td>2025-05-16T01:17:10.910671</td>\n",
       "      <td>1.0</td>\n",
       "      <td>1.0</td>\n",
       "      <td>NaN</td>\n",
       "      <td>[{'args': {'prompt': 'What is the contribution...</td>\n",
       "      <td>[{'args': {'prompt': 'What is the contribution...</td>\n",
       "      <td>NaN</td>\n",
       "      <td>2</td>\n",
       "      <td>2133</td>\n",
       "      <td>0.003252</td>\n",
       "    </tr>\n",
       "    <tr>\n",
       "      <th>3</th>\n",
       "      <td>Direct Query Engine</td>\n",
       "      <td>{\"app_id\": \"Direct Query Engine\", \"tags\": \"-\",...</td>\n",
       "      <td>RetrieverQueryEngine(llama_index.query_engine....</td>\n",
       "      <td>record_hash_bb98574d85b58c3dbd35879082e96521</td>\n",
       "      <td>\"Who are the authors?\"</td>\n",
       "      <td>\"The authors of the work are the experts who d...</td>\n",
       "      <td>-</td>\n",
       "      <td>{\"record_id\": \"record_hash_bb98574d85b58c3dbd3...</td>\n",
       "      <td>{\"n_requests\": 1, \"n_successful_requests\": 1, ...</td>\n",
       "      <td>{\"start_time\": \"2025-05-16T01:17:11.028763\", \"...</td>\n",
       "      <td>2025-05-16T01:17:11.969069</td>\n",
       "      <td>1.0</td>\n",
       "      <td>NaN</td>\n",
       "      <td>NaN</td>\n",
       "      <td>[{'args': {'prompt': 'Who are the authors?', '...</td>\n",
       "      <td>NaN</td>\n",
       "      <td>NaN</td>\n",
       "      <td>0</td>\n",
       "      <td>2092</td>\n",
       "      <td>0.003150</td>\n",
       "    </tr>\n",
       "    <tr>\n",
       "      <th>4</th>\n",
       "      <td>Direct Query Engine</td>\n",
       "      <td>{\"app_id\": \"Direct Query Engine\", \"tags\": \"-\",...</td>\n",
       "      <td>RetrieverQueryEngine(llama_index.query_engine....</td>\n",
       "      <td>record_hash_0083f775b13aad67a76262b34b760a00</td>\n",
       "      <td>\"How many networks have been applied in this p...</td>\n",
       "      <td>\"Two networks have been applied in this paper.\"</td>\n",
       "      <td>-</td>\n",
       "      <td>{\"record_id\": \"record_hash_0083f775b13aad67a76...</td>\n",
       "      <td>{\"n_requests\": 1, \"n_successful_requests\": 1, ...</td>\n",
       "      <td>{\"start_time\": \"2025-05-16T01:17:12.091079\", \"...</td>\n",
       "      <td>2025-05-16T01:17:12.826520</td>\n",
       "      <td>1.0</td>\n",
       "      <td>NaN</td>\n",
       "      <td>NaN</td>\n",
       "      <td>[{'args': {'prompt': 'How many networks have b...</td>\n",
       "      <td>NaN</td>\n",
       "      <td>NaN</td>\n",
       "      <td>0</td>\n",
       "      <td>2070</td>\n",
       "      <td>0.003109</td>\n",
       "    </tr>\n",
       "  </tbody>\n",
       "</table>\n",
       "</div>"
      ],
      "text/plain": [
       "                app_id                                           app_json  \\\n",
       "0  Direct Query Engine  {\"app_id\": \"Direct Query Engine\", \"tags\": \"-\",...   \n",
       "1  Direct Query Engine  {\"app_id\": \"Direct Query Engine\", \"tags\": \"-\",...   \n",
       "2  Direct Query Engine  {\"app_id\": \"Direct Query Engine\", \"tags\": \"-\",...   \n",
       "3  Direct Query Engine  {\"app_id\": \"Direct Query Engine\", \"tags\": \"-\",...   \n",
       "4  Direct Query Engine  {\"app_id\": \"Direct Query Engine\", \"tags\": \"-\",...   \n",
       "\n",
       "                                                type  \\\n",
       "0  RetrieverQueryEngine(llama_index.query_engine....   \n",
       "1  RetrieverQueryEngine(llama_index.query_engine....   \n",
       "2  RetrieverQueryEngine(llama_index.query_engine....   \n",
       "3  RetrieverQueryEngine(llama_index.query_engine....   \n",
       "4  RetrieverQueryEngine(llama_index.query_engine....   \n",
       "\n",
       "                                      record_id  \\\n",
       "0  record_hash_2b59c07e0679ca198a0516c583a03434   \n",
       "1  record_hash_ca7b081306336b34de5e12410343f443   \n",
       "2  record_hash_0eefc81a3fb9f0e5a9a6ba01f0799959   \n",
       "3  record_hash_bb98574d85b58c3dbd35879082e96521   \n",
       "4  record_hash_0083f775b13aad67a76262b34b760a00   \n",
       "\n",
       "                                               input  \\\n",
       "0                     \"What is the name of article?\"   \n",
       "1               \"How the writer used the AI method?\"   \n",
       "2          \"What is the contribution of this paper?\"   \n",
       "3                             \"Who are the authors?\"   \n",
       "4  \"How many networks have been applied in this p...   \n",
       "\n",
       "                                              output tags  \\\n",
       "0  \"An overview of deep learning based methods fo...    -   \n",
       "1  \"The writer utilized deep learning autoencoder...    -   \n",
       "2  \"The contribution of this paper lies in utiliz...    -   \n",
       "3  \"The authors of the work are the experts who d...    -   \n",
       "4    \"Two networks have been applied in this paper.\"    -   \n",
       "\n",
       "                                         record_json  \\\n",
       "0  {\"record_id\": \"record_hash_2b59c07e0679ca198a0...   \n",
       "1  {\"record_id\": \"record_hash_ca7b081306336b34de5...   \n",
       "2  {\"record_id\": \"record_hash_0eefc81a3fb9f0e5a9a...   \n",
       "3  {\"record_id\": \"record_hash_bb98574d85b58c3dbd3...   \n",
       "4  {\"record_id\": \"record_hash_0083f775b13aad67a76...   \n",
       "\n",
       "                                           cost_json  \\\n",
       "0  {\"n_requests\": 1, \"n_successful_requests\": 1, ...   \n",
       "1  {\"n_requests\": 1, \"n_successful_requests\": 1, ...   \n",
       "2  {\"n_requests\": 1, \"n_successful_requests\": 1, ...   \n",
       "3  {\"n_requests\": 1, \"n_successful_requests\": 1, ...   \n",
       "4  {\"n_requests\": 1, \"n_successful_requests\": 1, ...   \n",
       "\n",
       "                                           perf_json  \\\n",
       "0  {\"start_time\": \"2025-05-16T01:17:06.156091\", \"...   \n",
       "1  {\"start_time\": \"2025-05-16T01:17:06.989329\", \"...   \n",
       "2  {\"start_time\": \"2025-05-16T01:17:08.487419\", \"...   \n",
       "3  {\"start_time\": \"2025-05-16T01:17:11.028763\", \"...   \n",
       "4  {\"start_time\": \"2025-05-16T01:17:12.091079\", \"...   \n",
       "\n",
       "                           ts  Answer Relevance  Context Relevance  \\\n",
       "0  2025-05-16T01:17:06.869123               1.0                0.2   \n",
       "1  2025-05-16T01:17:08.375627               1.0                1.0   \n",
       "2  2025-05-16T01:17:10.910671               1.0                1.0   \n",
       "3  2025-05-16T01:17:11.969069               1.0                NaN   \n",
       "4  2025-05-16T01:17:12.826520               1.0                NaN   \n",
       "\n",
       "   Groundedness                             Answer Relevance_calls  \\\n",
       "0         0.300  [{'args': {'prompt': 'What is the name of arti...   \n",
       "1         0.975  [{'args': {'prompt': 'How the writer used the ...   \n",
       "2           NaN  [{'args': {'prompt': 'What is the contribution...   \n",
       "3           NaN  [{'args': {'prompt': 'Who are the authors?', '...   \n",
       "4           NaN  [{'args': {'prompt': 'How many networks have b...   \n",
       "\n",
       "                             Context Relevance_calls  \\\n",
       "0  [{'args': {'prompt': 'What is the name of arti...   \n",
       "1  [{'args': {'prompt': 'How the writer used the ...   \n",
       "2  [{'args': {'prompt': 'What is the contribution...   \n",
       "3                                                NaN   \n",
       "4                                                NaN   \n",
       "\n",
       "                                  Groundedness_calls  latency  total_tokens  \\\n",
       "0  [{'args': {'source': 'AC refers to the analyte...        0          2035   \n",
       "1  [{'args': {'source': 'Citation: Esmaeili, F.; ...        1          2219   \n",
       "2                                                NaN        2          2133   \n",
       "3                                                NaN        0          2092   \n",
       "4                                                NaN        0          2070   \n",
       "\n",
       "   total_cost  \n",
       "0    0.003063  \n",
       "1    0.003386  \n",
       "2    0.003252  \n",
       "3    0.003150  \n",
       "4    0.003109  "
      ]
     },
     "execution_count": 15,
     "metadata": {},
     "output_type": "execute_result"
    }
   ],
   "source": [
    "records.head()"
   ]
  },
  {
   "cell_type": "code",
   "execution_count": 16,
   "id": "64310897-179b-4081-aab8-f08a3392a078",
   "metadata": {
    "height": 47,
    "tags": []
   },
   "outputs": [
    {
     "name": "stdout",
     "output_type": "stream",
     "text": [
      "Starting dashboard ...\n",
      "Config file already exists. Skipping writing process.\n",
      "Credentials file already exists. Skipping writing process.\n"
     ]
    },
    {
     "data": {
      "application/vnd.jupyter.widget-view+json": {
       "model_id": "421fef047e8448e394412b2f50a15d9d",
       "version_major": 2,
       "version_minor": 0
      },
      "text/plain": [
       "Accordion(children=(VBox(children=(VBox(children=(Label(value='STDOUT'), Output())), VBox(children=(Label(valu…"
      ]
     },
     "metadata": {},
     "output_type": "display_data"
    },
    {
     "name": "stdout",
     "output_type": "stream",
     "text": [
      "Dashboard started at https://s172-29-47-243p38560.lab-aws-production.deeplearning.ai/ .\n"
     ]
    },
    {
     "data": {
      "text/plain": [
       "<Popen: returncode: None args: ['streamlit', 'run', '--server.headless=True'...>"
      ]
     },
     "execution_count": 16,
     "metadata": {},
     "output_type": "execute_result"
    }
   ],
   "source": [
    "# launches on http://localhost:8501/\n",
    "tru.run_dashboard()"
   ]
  },
  {
   "cell_type": "markdown",
   "id": "a4eedcef",
   "metadata": {},
   "source": [
    "## Advanced RAG pipeline"
   ]
  },
  {
   "cell_type": "markdown",
   "id": "9a17ea2b",
   "metadata": {},
   "source": [
    "### 1. Sentence Window retrieval"
   ]
  },
  {
   "cell_type": "code",
   "execution_count": 17,
   "id": "dae4a668-3699-4750-82f7-e53ae1bca3a7",
   "metadata": {
    "height": 64,
    "tags": []
   },
   "outputs": [],
   "source": [
    "from llama_index.llms import OpenAI\n",
    "\n",
    "llm = OpenAI(model=\"gpt-3.5-turbo\", temperature=0.1)"
   ]
  },
  {
   "cell_type": "code",
   "execution_count": 18,
   "id": "78f7678f-358d-448d-b153-11ac8e96a7fc",
   "metadata": {
    "height": 149,
    "tags": []
   },
   "outputs": [],
   "source": [
    "from utils import build_sentence_window_index\n",
    "\n",
    "sentence_index = build_sentence_window_index(\n",
    "    document,\n",
    "    llm,\n",
    "    embed_model=\"local:BAAI/bge-small-en-v1.5\",\n",
    "    save_dir=\"sentence_index\"\n",
    ")"
   ]
  },
  {
   "cell_type": "code",
   "execution_count": 19,
   "id": "72f904c3-9845-4df5-9d2e-e5115160f987",
   "metadata": {
    "height": 64,
    "tags": []
   },
   "outputs": [],
   "source": [
    "from utils import get_sentence_window_query_engine\n",
    "\n",
    "sentence_window_engine = get_sentence_window_query_engine(sentence_index)"
   ]
  },
  {
   "cell_type": "code",
   "execution_count": 20,
   "id": "f59e2314-7cac-42f4-a552-9a8e4db641eb",
   "metadata": {
    "height": 81,
    "tags": []
   },
   "outputs": [
    {
     "name": "stdout",
     "output_type": "stream",
     "text": [
      "The threshold applied in the anomaly detection framework is based on the upper bound of the confidence interval.\n"
     ]
    }
   ],
   "source": [
    "window_response = sentence_window_engine.query(\n",
    "    \"What type of threshold have been applied?\"\n",
    ")\n",
    "print(str(window_response))"
   ]
  },
  {
   "cell_type": "code",
   "execution_count": 21,
   "id": "b5c10917-8846-4e73-838d-6232c906a7db",
   "metadata": {
    "height": 115,
    "tags": []
   },
   "outputs": [],
   "source": [
    "tru.reset_database()\n",
    "\n",
    "tru_recorder_sentence_window = get_prebuilt_trulens_recorder(\n",
    "    sentence_window_engine,\n",
    "    app_id = \"Sentence Window Query Engine\"\n",
    ")"
   ]
  },
  {
   "cell_type": "code",
   "execution_count": 22,
   "id": "11710e67-aba8-479e-8585-c4c611e2c1d2",
   "metadata": {
    "height": 98,
    "tags": []
   },
   "outputs": [
    {
     "name": "stdout",
     "output_type": "stream",
     "text": [
      "What is the name of article?\n",
      "Anomaly Detection for Sensor Signals Utilizing Deep Learning Autoencoder-Based Neural Networks\n",
      "How the writer used the AI method?\n",
      "The writer utilized deep learning autoencoder-based neural networks for anomaly detection in sensor signals. Additionally, the integration of LSTM and vanilla autoencoders was employed to enhance the prediction models' effectiveness. The author also mentioned that combining different deep learning algorithms can improve the robustness, accuracy, and performance of prediction models.\n",
      "What is the contribution of this paper?\n",
      "The contribution of this paper is the utilization of deep learning autoencoder-based neural networks for anomaly detection in sensor signals.\n",
      "Who are the authors?\n",
      "The authors are Kwon, K.; Kwon, S.; Yeo, W.H.\n",
      "How many networks have been applied in this paper?\n",
      "Two networks have been applied in this paper.\n",
      "What deep learning methods has been applied?\n",
      "The deep learning methods applied in the study include autoencoder-based prediction models, ULSTM networks, vanilla networks, BLSTM networks, and LSTM autoencoders.\n",
      "What is the result of the paper?\n",
      "The result of the paper is the development of a method for anomaly detection in sensor signals using deep learning autoencoder-based neural networks.\n",
      "What are the contributions of this paper?\n",
      "The contributions of this paper include conceptualization by F.E., N.O.V. P., C.P. U., and A.W., methodology by F.E., and software development by F.E.\n"
     ]
    }
   ],
   "source": [
    "for question in eval_questions:\n",
    "    with tru_recorder_sentence_window as recording:\n",
    "        response = sentence_window_engine.query(question)\n",
    "        print(question)\n",
    "        print(str(response))"
   ]
  },
  {
   "cell_type": "code",
   "execution_count": 23,
   "id": "869d1e55-729b-45f2-a0f9-773c49d4616f",
   "metadata": {
    "height": 30,
    "tags": []
   },
   "outputs": [
    {
     "data": {
      "text/html": [
       "<div>\n",
       "<style scoped>\n",
       "    .dataframe tbody tr th:only-of-type {\n",
       "        vertical-align: middle;\n",
       "    }\n",
       "\n",
       "    .dataframe tbody tr th {\n",
       "        vertical-align: top;\n",
       "    }\n",
       "\n",
       "    .dataframe thead th {\n",
       "        text-align: right;\n",
       "    }\n",
       "</style>\n",
       "<table border=\"1\" class=\"dataframe\">\n",
       "  <thead>\n",
       "    <tr style=\"text-align: right;\">\n",
       "      <th></th>\n",
       "      <th>Answer Relevance</th>\n",
       "      <th>latency</th>\n",
       "      <th>total_cost</th>\n",
       "    </tr>\n",
       "    <tr>\n",
       "      <th>app_id</th>\n",
       "      <th></th>\n",
       "      <th></th>\n",
       "      <th></th>\n",
       "    </tr>\n",
       "  </thead>\n",
       "  <tbody>\n",
       "    <tr>\n",
       "      <th>Sentence Window Query Engine</th>\n",
       "      <td>1.0</td>\n",
       "      <td>1.0</td>\n",
       "      <td>0.000764</td>\n",
       "    </tr>\n",
       "  </tbody>\n",
       "</table>\n",
       "</div>"
      ],
      "text/plain": [
       "                              Answer Relevance  latency  total_cost\n",
       "app_id                                                             \n",
       "Sentence Window Query Engine               1.0      1.0    0.000764"
      ]
     },
     "execution_count": 23,
     "metadata": {},
     "output_type": "execute_result"
    }
   ],
   "source": [
    "tru.get_leaderboard(app_ids=[])"
   ]
  },
  {
   "cell_type": "code",
   "execution_count": 24,
   "id": "0b92d0f2-2e80-48d5-92af-b3655eb03ea2",
   "metadata": {
    "height": 47,
    "tags": []
   },
   "outputs": [
    {
     "name": "stdout",
     "output_type": "stream",
     "text": [
      "Starting dashboard ...\n",
      "Config file already exists. Skipping writing process.\n",
      "Credentials file already exists. Skipping writing process.\n",
      "Dashboard already running at path: https://s172-29-47-243p38560.lab-aws-production.deeplearning.ai/\n"
     ]
    },
    {
     "data": {
      "text/plain": [
       "<Popen: returncode: None args: ['streamlit', 'run', '--server.headless=True'...>"
      ]
     },
     "execution_count": 24,
     "metadata": {},
     "output_type": "execute_result"
    }
   ],
   "source": [
    "# launches on http://localhost:8501/\n",
    "tru.run_dashboard()"
   ]
  },
  {
   "cell_type": "markdown",
   "id": "a92e2c55",
   "metadata": {},
   "source": [
    "### 2. Auto-merging retrieval"
   ]
  },
  {
   "cell_type": "code",
   "execution_count": 25,
   "id": "558c639b-31eb-4c34-b6c4-fe6ae5717733",
   "metadata": {
    "height": 149,
    "tags": []
   },
   "outputs": [],
   "source": [
    "from utils import build_automerging_index\n",
    "\n",
    "automerging_index = build_automerging_index(\n",
    "    documents,\n",
    "    llm,\n",
    "    embed_model=\"local:BAAI/bge-small-en-v1.5\",\n",
    "    save_dir=\"merging_index\"\n",
    ")"
   ]
  },
  {
   "cell_type": "code",
   "execution_count": 26,
   "id": "b32265f2-0247-42df-9abe-97d52f69edcf",
   "metadata": {
    "height": 98,
    "tags": []
   },
   "outputs": [],
   "source": [
    "from utils import get_automerging_query_engine\n",
    "\n",
    "automerging_query_engine = get_automerging_query_engine(\n",
    "    automerging_index,\n",
    ")"
   ]
  },
  {
   "cell_type": "code",
   "execution_count": 32,
   "id": "918ed568-220e-4c7c-aa60-cfa58ef1fcbd",
   "metadata": {
    "height": 81,
    "tags": []
   },
   "outputs": [
    {
     "name": "stdout",
     "output_type": "stream",
     "text": [
      "> Merging 4 nodes into parent node.\n",
      "> Parent node id: 22a8e698-07a3-45b2-bbc6-b4c4d56a4f5b.\n",
      "> Parent node text: Bioengineering 2023 ,1, 0 18 of 30\n",
      "network and calculating the reconstruction errors, estimating ...\n",
      "\n",
      "The network is built by designing an autoencoder-based network for anomaly detection.\n"
     ]
    }
   ],
   "source": [
    "auto_merging_response = automerging_query_engine.query(\n",
    "    \"How do they build a network?\"\n",
    ")\n",
    "print(str(auto_merging_response))"
   ]
  },
  {
   "cell_type": "code",
   "execution_count": 28,
   "id": "db4f18a9-7b8a-4ae2-ab11-3a6a941a5afc",
   "metadata": {
    "height": 81,
    "tags": []
   },
   "outputs": [],
   "source": [
    "tru.reset_database()\n",
    "\n",
    "tru_recorder_automerging = get_prebuilt_trulens_recorder(automerging_query_engine,\n",
    "                                                         app_id=\"Automerging Query Engine\")"
   ]
  },
  {
   "cell_type": "code",
   "execution_count": 29,
   "id": "99cc2cfe-7096-4fa0-aa72-094bebac35a3",
   "metadata": {
    "height": 98,
    "tags": []
   },
   "outputs": [
    {
     "name": "stdout",
     "output_type": "stream",
     "text": [
      "> Merging 4 nodes into parent node.\n",
      "> Parent node id: 327ec96f-6859-476b-8bee-85142f64bc02.\n",
      "> Parent node text: Citation: Esmaeili, F.; Cassie, E.;\n",
      "Nguyen, H.P .T.; Plank, N.O.V .;\n",
      "Unsworth, C.P .; Wang, A. An...\n",
      "\n",
      "> Merging 1 nodes into parent node.\n",
      "> Parent node id: 86fb2933-5c6b-47ca-9faf-5a4a30fd01ad.\n",
      "> Parent node text: Bioengineering 2023 ,1, 0 8 of 30\n",
      "(a)\n",
      "(b)\n",
      "(c)\n",
      "Figure 3. Cont.\n",
      "\n",
      "> Merging 1 nodes into parent node.\n",
      "> Parent node id: 084623cd-fa53-4d6e-8e39-f148d50b3a6c.\n",
      "> Parent node text: Bioengineering 2023 ,1, 0 5 of 30\n",
      "(a)\n",
      "(b)\n",
      "(c)\n",
      "Figure 2. Cont.\n",
      "\n",
      "> Merging 1 nodes into parent node.\n",
      "> Parent node id: 1465cc13-b5f5-4484-811f-0f7b12e8648b.\n",
      "> Parent node text: Bioengineering 2023 ,1, 0 8 of 30\n",
      "(a)\n",
      "(b)\n",
      "(c)\n",
      "Figure 3. Cont.\n",
      "\n",
      "> Merging 1 nodes into parent node.\n",
      "> Parent node id: 7ebedd72-ba41-45cf-8337-1143db9279b7.\n",
      "> Parent node text: Bioengineering 2023 ,1, 0 5 of 30\n",
      "(a)\n",
      "(b)\n",
      "(c)\n",
      "Figure 2. Cont.\n",
      "\n",
      "What is the name of article?\n",
      "Anomaly Detection for Sensor Signals Utilizing Deep Learning Autoencoder-Based Neural Networks\n",
      "> Merging 2 nodes into parent node.\n",
      "> Parent node id: 896f2e0a-668e-486b-9645-a4e9c6f1d121.\n",
      "> Parent node text: 2490–2497.\n",
      "45. Demir, S.; Mincev, K.; Kok, K.; Paterakis, N.G. Data augmentation for time series ...\n",
      "\n",
      "How the writer used the AI method?\n",
      "The writer used the AI method for anomaly detection in a cloud environment.\n",
      "> Merging 4 nodes into parent node.\n",
      "> Parent node id: 327ec96f-6859-476b-8bee-85142f64bc02.\n",
      "> Parent node text: Citation: Esmaeili, F.; Cassie, E.;\n",
      "Nguyen, H.P .T.; Plank, N.O.V .;\n",
      "Unsworth, C.P .; Wang, A. An...\n",
      "\n",
      "> Merging 2 nodes into parent node.\n",
      "> Parent node id: 8c77645e-eeec-445d-8526-c1dbd7e0b933.\n",
      "> Parent node text: Institutional Review Board Statement: Not applicable.\n",
      "Informed Consent Statement: Not applicable....\n",
      "\n",
      "What is the contribution of this paper?\n",
      "The contribution of this paper is the utilization of deep learning autoencoder-based neural networks for anomaly detection in sensor signals.\n",
      "> Merging 2 nodes into parent node.\n",
      "> Parent node id: 896f2e0a-668e-486b-9645-a4e9c6f1d121.\n",
      "> Parent node text: 2490–2497.\n",
      "45. Demir, S.; Mincev, K.; Kok, K.; Paterakis, N.G. Data augmentation for time series ...\n",
      "\n",
      "> Merging 1 nodes into parent node.\n",
      "> Parent node id: 86fb2933-5c6b-47ca-9faf-5a4a30fd01ad.\n",
      "> Parent node text: Bioengineering 2023 ,1, 0 8 of 30\n",
      "(a)\n",
      "(b)\n",
      "(c)\n",
      "Figure 3. Cont.\n",
      "\n",
      "> Merging 1 nodes into parent node.\n",
      "> Parent node id: 084623cd-fa53-4d6e-8e39-f148d50b3a6c.\n",
      "> Parent node text: Bioengineering 2023 ,1, 0 5 of 30\n",
      "(a)\n",
      "(b)\n",
      "(c)\n",
      "Figure 2. Cont.\n",
      "\n",
      "> Merging 1 nodes into parent node.\n",
      "> Parent node id: 1465cc13-b5f5-4484-811f-0f7b12e8648b.\n",
      "> Parent node text: Bioengineering 2023 ,1, 0 8 of 30\n",
      "(a)\n",
      "(b)\n",
      "(c)\n",
      "Figure 3. Cont.\n",
      "\n",
      "> Merging 1 nodes into parent node.\n",
      "> Parent node id: 7ebedd72-ba41-45cf-8337-1143db9279b7.\n",
      "> Parent node text: Bioengineering 2023 ,1, 0 5 of 30\n",
      "(a)\n",
      "(b)\n",
      "(c)\n",
      "Figure 2. Cont.\n",
      "\n",
      "Who are the authors?\n",
      "The authors are Demir, S.; Mincev, K.; Kok, K.; Paterakis, N.G.; Flores, A.; Tito-Chura, H.; Apaza-Alanoca, H.; Kwon, K.; Kwon, S.; Yeo, W.H.\n",
      "How many networks have been applied in this paper?\n",
      "Two networks have been applied in this paper.\n",
      "What deep learning methods has been applied?\n",
      "Deep learning methods such as gated recurrent unit (GRU) and LSTM have been applied.\n",
      "> Merging 1 nodes into parent node.\n",
      "> Parent node id: 86fb2933-5c6b-47ca-9faf-5a4a30fd01ad.\n",
      "> Parent node text: Bioengineering 2023 ,1, 0 8 of 30\n",
      "(a)\n",
      "(b)\n",
      "(c)\n",
      "Figure 3. Cont.\n",
      "\n",
      "> Merging 1 nodes into parent node.\n",
      "> Parent node id: 1465cc13-b5f5-4484-811f-0f7b12e8648b.\n",
      "> Parent node text: Bioengineering 2023 ,1, 0 8 of 30\n",
      "(a)\n",
      "(b)\n",
      "(c)\n",
      "Figure 3. Cont.\n",
      "\n",
      "What is the result of the paper?\n",
      "The result of the paper involves the movement of information in different temporal directions at forward and backward units during the first and second rounds, respectively. Additionally, the paper details the contributions and roles of various individuals in terms of validation, formal analysis, investigation, resources, data curation, and writing.\n",
      "> Merging 2 nodes into parent node.\n",
      "> Parent node id: 8c77645e-eeec-445d-8526-c1dbd7e0b933.\n",
      "> Parent node text: Institutional Review Board Statement: Not applicable.\n",
      "Informed Consent Statement: Not applicable....\n",
      "\n",
      "What are the contributions of this paper?\n",
      "The contributions of this paper include validation, formal analysis, investigation, providing computing resources and analysis tools, supplying laboratory samples, data curation, and writing the original draft. Additionally, the paper underwent review and editing by multiple authors.\n"
     ]
    }
   ],
   "source": [
    "for question in eval_questions:\n",
    "    with tru_recorder_automerging as recording:\n",
    "        response = automerging_query_engine.query(question)\n",
    "        print(question)\n",
    "        print(response)"
   ]
  },
  {
   "cell_type": "code",
   "execution_count": 30,
   "id": "5404dec1-60ca-42fa-ac13-793a5423aa64",
   "metadata": {
    "height": 30,
    "tags": []
   },
   "outputs": [
    {
     "data": {
      "text/html": [
       "<div>\n",
       "<style scoped>\n",
       "    .dataframe tbody tr th:only-of-type {\n",
       "        vertical-align: middle;\n",
       "    }\n",
       "\n",
       "    .dataframe tbody tr th {\n",
       "        vertical-align: top;\n",
       "    }\n",
       "\n",
       "    .dataframe thead th {\n",
       "        text-align: right;\n",
       "    }\n",
       "</style>\n",
       "<table border=\"1\" class=\"dataframe\">\n",
       "  <thead>\n",
       "    <tr style=\"text-align: right;\">\n",
       "      <th></th>\n",
       "      <th>latency</th>\n",
       "      <th>total_cost</th>\n",
       "    </tr>\n",
       "    <tr>\n",
       "      <th>app_id</th>\n",
       "      <th></th>\n",
       "      <th></th>\n",
       "    </tr>\n",
       "  </thead>\n",
       "  <tbody>\n",
       "    <tr>\n",
       "      <th>Automerging Query Engine</th>\n",
       "      <td>2.0</td>\n",
       "      <td>0.000826</td>\n",
       "    </tr>\n",
       "  </tbody>\n",
       "</table>\n",
       "</div>"
      ],
      "text/plain": [
       "                          latency  total_cost\n",
       "app_id                                       \n",
       "Automerging Query Engine      2.0    0.000826"
      ]
     },
     "execution_count": 30,
     "metadata": {},
     "output_type": "execute_result"
    }
   ],
   "source": [
    "tru.get_leaderboard(app_ids=[])"
   ]
  },
  {
   "cell_type": "code",
   "execution_count": 31,
   "id": "0f545d41-0d98-446f-8214-8b59bef08d6c",
   "metadata": {
    "height": 47,
    "tags": []
   },
   "outputs": [
    {
     "name": "stdout",
     "output_type": "stream",
     "text": [
      "Starting dashboard ...\n",
      "Config file already exists. Skipping writing process.\n",
      "Credentials file already exists. Skipping writing process.\n",
      "Dashboard already running at path: https://s172-29-47-243p38560.lab-aws-production.deeplearning.ai/\n"
     ]
    },
    {
     "data": {
      "text/plain": [
       "<Popen: returncode: None args: ['streamlit', 'run', '--server.headless=True'...>"
      ]
     },
     "execution_count": 31,
     "metadata": {},
     "output_type": "execute_result"
    }
   ],
   "source": [
    "# launches on http://localhost:8501/\n",
    "tru.run_dashboard()"
   ]
  },
  {
   "cell_type": "code",
   "execution_count": null,
   "id": "a4b0b1bd",
   "metadata": {
    "height": 30
   },
   "outputs": [],
   "source": []
  }
 ],
 "metadata": {
  "kernelspec": {
   "display_name": "Python 3 (ipykernel)",
   "language": "python",
   "name": "python3"
  },
  "language_info": {
   "codemirror_mode": {
    "name": "ipython",
    "version": 3
   },
   "file_extension": ".py",
   "mimetype": "text/x-python",
   "name": "python",
   "nbconvert_exporter": "python",
   "pygments_lexer": "ipython3",
   "version": "3.9.13"
  }
 },
 "nbformat": 4,
 "nbformat_minor": 5
}
