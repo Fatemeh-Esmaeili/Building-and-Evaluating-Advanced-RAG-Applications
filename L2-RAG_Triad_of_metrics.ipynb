{
 "cells": [
  {
   "cell_type": "markdown",
   "metadata": {
    "id": "X6-q-gTUaZU7",
    "tags": []
   },
   "source": [
    "# Lesson 2: RAG Triad of metrics"
   ]
  },
  {
   "cell_type": "code",
   "execution_count": 1,
   "metadata": {
    "height": 47
   },
   "outputs": [],
   "source": [
    "import warnings\n",
    "warnings.filterwarnings('ignore')"
   ]
  },
  {
   "cell_type": "code",
   "execution_count": 2,
   "metadata": {
    "height": 98
   },
   "outputs": [],
   "source": [
    "import utils\n",
    "\n",
    "import os\n",
    "import openai\n",
    "openai.api_key = utils.get_openai_api_key()"
   ]
  },
  {
   "cell_type": "code",
   "execution_count": 3,
   "metadata": {
    "height": 81,
    "id": "IBfdyn3MaZU9"
   },
   "outputs": [
    {
     "name": "stdout",
     "output_type": "stream",
     "text": [
      "🦑 Tru initialized with db url sqlite:///default.sqlite .\n",
      "🛑 Secret keys may be written to the database. See the `database_redact_keys` option of `Tru` to prevent this.\n"
     ]
    }
   ],
   "source": [
    "from trulens_eval import Tru\n",
    "\n",
    "tru = Tru()\n",
    "tru.reset_database()"
   ]
  },
  {
   "cell_type": "code",
   "execution_count": 4,
   "metadata": {
    "height": 98,
    "id": "wMvq1q8yaZU-"
   },
   "outputs": [],
   "source": [
    "from llama_index import SimpleDirectoryReader\n",
    "\n",
    "documents = SimpleDirectoryReader(\n",
    "    input_files=[\"./bioengineering-2247773.pdf\"]\n",
    ").load_data()"
   ]
  },
  {
   "cell_type": "code",
   "execution_count": 5,
   "metadata": {
    "height": 197,
    "id": "sY8Oui4taZU-"
   },
   "outputs": [],
   "source": [
    "# Merge all of this content (= multiple document chunks) \n",
    "# into a single large document rather than having \n",
    "# one document per page which is the default set-up\n",
    "\n",
    "\n",
    "from llama_index import Document\n",
    "\n",
    "document = Document(text=\"\\n\\n\".\\\n",
    "                    join([doc.text for doc in documents]))"
   ]
  },
  {
   "cell_type": "code",
   "execution_count": 6,
   "metadata": {
    "height": 253
   },
   "outputs": [],
   "source": [
    "# Set up Sentence Index leveraging llama-index utilities\n",
    "\n",
    "from utils import build_sentence_window_index\n",
    "\n",
    "from llama_index.llms import OpenAI\n",
    "\n",
    "llm = OpenAI(model=\"gpt-3.5-turbo\", temperature=0.1)\n",
    "\n",
    "sentence_index = build_sentence_window_index(\n",
    "    document,\n",
    "    llm,\n",
    "    embed_model=\"local:BAAI/bge-small-en-v1.5\",\n",
    "    save_dir=\"sentence_index\"\n",
    ")"
   ]
  },
  {
   "cell_type": "code",
   "execution_count": 7,
   "metadata": {
    "height": 81
   },
   "outputs": [],
   "source": [
    "from utils import get_sentence_window_query_engine\n",
    "\n",
    "sentence_window_engine = \\\n",
    "get_sentence_window_query_engine(sentence_index)"
   ]
  },
  {
   "cell_type": "code",
   "execution_count": 8,
   "metadata": {
    "height": 64
   },
   "outputs": [
    {
     "data": {
      "text/plain": [
       "'The performance metrics applied in this paper include skill progression, complementing career goals, starting an AI job search, using informational interviews to find the right job, and finding the right AI job for the individual.'"
      ]
     },
     "execution_count": 8,
     "metadata": {},
     "output_type": "execute_result"
    }
   ],
   "source": [
    "output = sentence_window_engine.query(\n",
    "    \"What are performance metrics applied in this paper?\")\n",
    "output.response"
   ]
  },
  {
   "cell_type": "markdown",
   "metadata": {},
   "source": [
    "## Feedback functions"
   ]
  },
  {
   "cell_type": "code",
   "execution_count": 9,
   "metadata": {
    "height": 64,
    "id": "5KqV-IbQaZVB"
   },
   "outputs": [],
   "source": [
    "import nest_asyncio\n",
    "\n",
    "nest_asyncio.apply()"
   ]
  },
  {
   "cell_type": "code",
   "execution_count": 10,
   "metadata": {
    "height": 64
   },
   "outputs": [],
   "source": [
    "from trulens_eval import OpenAI as fOpenAI\n",
    "\n",
    "provider = fOpenAI()"
   ]
  },
  {
   "cell_type": "markdown",
   "metadata": {},
   "source": [
    "### 1. Answer Relevance"
   ]
  },
  {
   "cell_type": "code",
   "execution_count": 11,
   "metadata": {
    "height": 115
   },
   "outputs": [
    {
     "name": "stdout",
     "output_type": "stream",
     "text": [
      "✅ In Answer Relevance, input prompt will be set to __record__.main_input or `Select.RecordInput` .\n",
      "✅ In Answer Relevance, input response will be set to __record__.main_output or `Select.RecordOutput` .\n"
     ]
    }
   ],
   "source": [
    "from trulens_eval import Feedback\n",
    "\n",
    "f_qa_relevance = Feedback(\n",
    "    provider.relevance_with_cot_reasons,\n",
    "    name=\"Answer Relevance\"\n",
    ").on_input_output()"
   ]
  },
  {
   "cell_type": "markdown",
   "metadata": {},
   "source": [
    "### 2. Context Relevance"
   ]
  },
  {
   "cell_type": "code",
   "execution_count": 12,
   "metadata": {
    "height": 64
   },
   "outputs": [],
   "source": [
    "from trulens_eval import TruLlama\n",
    "\n",
    "context_selection = TruLlama.select_source_nodes().node.text"
   ]
  },
  {
   "cell_type": "code",
   "execution_count": 13,
   "metadata": {
    "height": 166
   },
   "outputs": [
    {
     "name": "stdout",
     "output_type": "stream",
     "text": [
      "✅ In Context Relevance, input question will be set to __record__.main_input or `Select.RecordInput` .\n",
      "✅ In Context Relevance, input statement will be set to __record__.app.query.rets.source_nodes[:].node.text .\n"
     ]
    }
   ],
   "source": [
    "import numpy as np\n",
    "\n",
    "f_qs_relevance = (\n",
    "    Feedback(provider.qs_relevance,\n",
    "             name=\"Context Relevance\")\n",
    "    .on_input()\n",
    "    .on(context_selection)\n",
    "    .aggregate(np.mean)\n",
    ")"
   ]
  },
  {
   "cell_type": "code",
   "execution_count": 14,
   "metadata": {
    "height": 166
   },
   "outputs": [
    {
     "name": "stdout",
     "output_type": "stream",
     "text": [
      "✅ In Context Relevance, input question will be set to __record__.main_input or `Select.RecordInput` .\n",
      "✅ In Context Relevance, input statement will be set to __record__.app.query.rets.source_nodes[:].node.text .\n"
     ]
    }
   ],
   "source": [
    "import numpy as np\n",
    "\n",
    "f_qs_relevance = (\n",
    "    Feedback(provider.qs_relevance_with_cot_reasons,\n",
    "             name=\"Context Relevance\")\n",
    "    .on_input()\n",
    "    .on(context_selection)\n",
    "    .aggregate(np.mean)\n",
    ")"
   ]
  },
  {
   "cell_type": "markdown",
   "metadata": {},
   "source": [
    "### 3. Groundedness"
   ]
  },
  {
   "cell_type": "code",
   "execution_count": 15,
   "metadata": {
    "height": 64
   },
   "outputs": [],
   "source": [
    "from trulens_eval.feedback import Groundedness\n",
    "\n",
    "grounded = Groundedness(groundedness_provider=provider)"
   ]
  },
  {
   "cell_type": "code",
   "execution_count": 16,
   "metadata": {
    "height": 149,
    "id": "kXJBD4gfaZVC"
   },
   "outputs": [
    {
     "name": "stdout",
     "output_type": "stream",
     "text": [
      "✅ In Groundedness, input source will be set to __record__.app.query.rets.source_nodes[:].node.text .\n",
      "✅ In Groundedness, input statement will be set to __record__.main_output or `Select.RecordOutput` .\n"
     ]
    }
   ],
   "source": [
    "f_groundedness = (\n",
    "    Feedback(grounded.groundedness_measure_with_cot_reasons,\n",
    "             name=\"Groundedness\"\n",
    "            )\n",
    "    .on(context_selection)\n",
    "    .on_output()\n",
    "    .aggregate(grounded.grounded_statements_aggregator)\n",
    ")"
   ]
  },
  {
   "cell_type": "markdown",
   "metadata": {},
   "source": [
    "## Evaluation of the RAG application"
   ]
  },
  {
   "cell_type": "code",
   "execution_count": 17,
   "metadata": {
    "height": 217,
    "id": "KUDHInR-aZVC"
   },
   "outputs": [],
   "source": [
    "from trulens_eval import TruLlama\n",
    "from trulens_eval import FeedbackMode\n",
    "\n",
    "tru_recorder = TruLlama(\n",
    "    sentence_window_engine,\n",
    "    app_id=\"App_1\",\n",
    "    feedbacks=[\n",
    "        f_qa_relevance,\n",
    "        f_qs_relevance,\n",
    "        f_groundedness\n",
    "    ]\n",
    ")"
   ]
  },
  {
   "cell_type": "code",
   "execution_count": 18,
   "metadata": {
    "height": 115,
    "id": "dsA3ziw1aZVD"
   },
   "outputs": [],
   "source": [
    "eval_questions = []\n",
    "with open('eval_questions.txt', 'r') as file:\n",
    "    for line in file:\n",
    "        # Remove newline character and convert to integer\n",
    "        item = line.strip()\n",
    "        eval_questions.append(item)"
   ]
  },
  {
   "cell_type": "code",
   "execution_count": 19,
   "metadata": {
    "height": 30
   },
   "outputs": [
    {
     "data": {
      "text/plain": [
       "['What is the name of article?',\n",
       " 'How the writer used the AI method?',\n",
       " 'What is the contribution of this paper?',\n",
       " 'Who are the authors?',\n",
       " 'How many networks have been applied in this paper?',\n",
       " 'What deep learning methods has been applied?',\n",
       " 'What is the result of the paper?']"
      ]
     },
     "execution_count": 19,
     "metadata": {},
     "output_type": "execute_result"
    }
   ],
   "source": [
    "eval_questions"
   ]
  },
  {
   "cell_type": "code",
   "execution_count": 20,
   "metadata": {
    "height": 30
   },
   "outputs": [],
   "source": [
    "eval_questions.append(\"What are the contributions of this paper?\")"
   ]
  },
  {
   "cell_type": "code",
   "execution_count": 21,
   "metadata": {
    "height": 30
   },
   "outputs": [
    {
     "data": {
      "text/plain": [
       "['What is the name of article?',\n",
       " 'How the writer used the AI method?',\n",
       " 'What is the contribution of this paper?',\n",
       " 'Who are the authors?',\n",
       " 'How many networks have been applied in this paper?',\n",
       " 'What deep learning methods has been applied?',\n",
       " 'What is the result of the paper?',\n",
       " 'What are the contributions of this paper?']"
      ]
     },
     "execution_count": 21,
     "metadata": {},
     "output_type": "execute_result"
    }
   ],
   "source": [
    "eval_questions"
   ]
  },
  {
   "cell_type": "code",
   "execution_count": 22,
   "metadata": {
    "height": 64,
    "id": "01_P6TxaaZVD"
   },
   "outputs": [],
   "source": [
    "for question in eval_questions:\n",
    "    with tru_recorder as recording:\n",
    "        sentence_window_engine.query(question)"
   ]
  },
  {
   "cell_type": "code",
   "execution_count": 23,
   "metadata": {
    "height": 47,
    "id": "sNPhDde6ZArq"
   },
   "outputs": [
    {
     "data": {
      "text/html": [
       "<div>\n",
       "<style scoped>\n",
       "    .dataframe tbody tr th:only-of-type {\n",
       "        vertical-align: middle;\n",
       "    }\n",
       "\n",
       "    .dataframe tbody tr th {\n",
       "        vertical-align: top;\n",
       "    }\n",
       "\n",
       "    .dataframe thead th {\n",
       "        text-align: right;\n",
       "    }\n",
       "</style>\n",
       "<table border=\"1\" class=\"dataframe\">\n",
       "  <thead>\n",
       "    <tr style=\"text-align: right;\">\n",
       "      <th></th>\n",
       "      <th>app_id</th>\n",
       "      <th>app_json</th>\n",
       "      <th>type</th>\n",
       "      <th>record_id</th>\n",
       "      <th>input</th>\n",
       "      <th>output</th>\n",
       "      <th>tags</th>\n",
       "      <th>record_json</th>\n",
       "      <th>cost_json</th>\n",
       "      <th>perf_json</th>\n",
       "      <th>ts</th>\n",
       "      <th>Answer Relevance</th>\n",
       "      <th>Groundedness</th>\n",
       "      <th>Answer Relevance_calls</th>\n",
       "      <th>Groundedness_calls</th>\n",
       "      <th>latency</th>\n",
       "      <th>total_tokens</th>\n",
       "      <th>total_cost</th>\n",
       "    </tr>\n",
       "  </thead>\n",
       "  <tbody>\n",
       "    <tr>\n",
       "      <th>0</th>\n",
       "      <td>App_1</td>\n",
       "      <td>{\"app_id\": \"App_1\", \"tags\": \"-\", \"metadata\": {...</td>\n",
       "      <td>RetrieverQueryEngine(llama_index.query_engine....</td>\n",
       "      <td>record_hash_278bf8bc6cd493a334910bf3f7bd129d</td>\n",
       "      <td>\"What is the name of article?\"</td>\n",
       "      <td>\"Using Informational Interviews to Find the Ri...</td>\n",
       "      <td>-</td>\n",
       "      <td>{\"record_id\": \"record_hash_278bf8bc6cd493a3349...</td>\n",
       "      <td>{\"n_requests\": 1, \"n_successful_requests\": 1, ...</td>\n",
       "      <td>{\"start_time\": \"2025-05-16T03:10:39.000634\", \"...</td>\n",
       "      <td>2025-05-16T03:10:40.258454</td>\n",
       "      <td>1.0</td>\n",
       "      <td>1.0</td>\n",
       "      <td>[{'args': {'prompt': 'What is the name of arti...</td>\n",
       "      <td>[{'args': {'source': 'No one is an expert at e...</td>\n",
       "      <td>1</td>\n",
       "      <td>412</td>\n",
       "      <td>0.000623</td>\n",
       "    </tr>\n",
       "    <tr>\n",
       "      <th>1</th>\n",
       "      <td>App_1</td>\n",
       "      <td>{\"app_id\": \"App_1\", \"tags\": \"-\", \"metadata\": {...</td>\n",
       "      <td>RetrieverQueryEngine(llama_index.query_engine....</td>\n",
       "      <td>record_hash_ab1f28f7055d269bde7bf93110ca011a</td>\n",
       "      <td>\"How the writer used the AI method?\"</td>\n",
       "      <td>\"The writer used the AI method by identifying ...</td>\n",
       "      <td>-</td>\n",
       "      <td>{\"record_id\": \"record_hash_ab1f28f7055d269bde7...</td>\n",
       "      <td>{\"n_requests\": 1, \"n_successful_requests\": 1, ...</td>\n",
       "      <td>{\"start_time\": \"2025-05-16T03:10:40.381736\", \"...</td>\n",
       "      <td>2025-05-16T03:10:42.282064</td>\n",
       "      <td>1.0</td>\n",
       "      <td>NaN</td>\n",
       "      <td>[{'args': {'prompt': 'How the writer used the ...</td>\n",
       "      <td>NaN</td>\n",
       "      <td>1</td>\n",
       "      <td>431</td>\n",
       "      <td>0.000677</td>\n",
       "    </tr>\n",
       "    <tr>\n",
       "      <th>2</th>\n",
       "      <td>App_1</td>\n",
       "      <td>{\"app_id\": \"App_1\", \"tags\": \"-\", \"metadata\": {...</td>\n",
       "      <td>RetrieverQueryEngine(llama_index.query_engine....</td>\n",
       "      <td>record_hash_410555a1f93a52376d8437b64e3960cc</td>\n",
       "      <td>\"What is the contribution of this paper?\"</td>\n",
       "      <td>\"The contribution of this paper lies in provid...</td>\n",
       "      <td>-</td>\n",
       "      <td>{\"record_id\": \"record_hash_410555a1f93a52376d8...</td>\n",
       "      <td>{\"n_requests\": 1, \"n_successful_requests\": 1, ...</td>\n",
       "      <td>{\"start_time\": \"2025-05-16T03:10:42.393181\", \"...</td>\n",
       "      <td>2025-05-16T03:10:44.287177</td>\n",
       "      <td>1.0</td>\n",
       "      <td>NaN</td>\n",
       "      <td>[{'args': {'prompt': 'What is the contribution...</td>\n",
       "      <td>NaN</td>\n",
       "      <td>1</td>\n",
       "      <td>450</td>\n",
       "      <td>0.000723</td>\n",
       "    </tr>\n",
       "    <tr>\n",
       "      <th>3</th>\n",
       "      <td>App_1</td>\n",
       "      <td>{\"app_id\": \"App_1\", \"tags\": \"-\", \"metadata\": {...</td>\n",
       "      <td>RetrieverQueryEngine(llama_index.query_engine....</td>\n",
       "      <td>record_hash_c8abaccdc3ac06c7cc29ad1dc3030669</td>\n",
       "      <td>\"Who are the authors?\"</td>\n",
       "      <td>\"The authors are not explicitly mentioned in t...</td>\n",
       "      <td>-</td>\n",
       "      <td>{\"record_id\": \"record_hash_c8abaccdc3ac06c7cc2...</td>\n",
       "      <td>{\"n_requests\": 1, \"n_successful_requests\": 1, ...</td>\n",
       "      <td>{\"start_time\": \"2025-05-16T03:10:44.400690\", \"...</td>\n",
       "      <td>2025-05-16T03:10:45.491387</td>\n",
       "      <td>NaN</td>\n",
       "      <td>NaN</td>\n",
       "      <td>NaN</td>\n",
       "      <td>NaN</td>\n",
       "      <td>1</td>\n",
       "      <td>355</td>\n",
       "      <td>0.000539</td>\n",
       "    </tr>\n",
       "    <tr>\n",
       "      <th>4</th>\n",
       "      <td>App_1</td>\n",
       "      <td>{\"app_id\": \"App_1\", \"tags\": \"-\", \"metadata\": {...</td>\n",
       "      <td>RetrieverQueryEngine(llama_index.query_engine....</td>\n",
       "      <td>record_hash_2103cfae97ad58d877be75d158716718</td>\n",
       "      <td>\"How many networks have been applied in this p...</td>\n",
       "      <td>\"In this paper, neural networks have been appl...</td>\n",
       "      <td>-</td>\n",
       "      <td>{\"record_id\": \"record_hash_2103cfae97ad58d877b...</td>\n",
       "      <td>{\"n_requests\": 1, \"n_successful_requests\": 1, ...</td>\n",
       "      <td>{\"start_time\": \"2025-05-16T03:10:45.605907\", \"...</td>\n",
       "      <td>2025-05-16T03:10:46.846284</td>\n",
       "      <td>NaN</td>\n",
       "      <td>NaN</td>\n",
       "      <td>NaN</td>\n",
       "      <td>NaN</td>\n",
       "      <td>1</td>\n",
       "      <td>542</td>\n",
       "      <td>0.000819</td>\n",
       "    </tr>\n",
       "  </tbody>\n",
       "</table>\n",
       "</div>"
      ],
      "text/plain": [
       "  app_id                                           app_json  \\\n",
       "0  App_1  {\"app_id\": \"App_1\", \"tags\": \"-\", \"metadata\": {...   \n",
       "1  App_1  {\"app_id\": \"App_1\", \"tags\": \"-\", \"metadata\": {...   \n",
       "2  App_1  {\"app_id\": \"App_1\", \"tags\": \"-\", \"metadata\": {...   \n",
       "3  App_1  {\"app_id\": \"App_1\", \"tags\": \"-\", \"metadata\": {...   \n",
       "4  App_1  {\"app_id\": \"App_1\", \"tags\": \"-\", \"metadata\": {...   \n",
       "\n",
       "                                                type  \\\n",
       "0  RetrieverQueryEngine(llama_index.query_engine....   \n",
       "1  RetrieverQueryEngine(llama_index.query_engine....   \n",
       "2  RetrieverQueryEngine(llama_index.query_engine....   \n",
       "3  RetrieverQueryEngine(llama_index.query_engine....   \n",
       "4  RetrieverQueryEngine(llama_index.query_engine....   \n",
       "\n",
       "                                      record_id  \\\n",
       "0  record_hash_278bf8bc6cd493a334910bf3f7bd129d   \n",
       "1  record_hash_ab1f28f7055d269bde7bf93110ca011a   \n",
       "2  record_hash_410555a1f93a52376d8437b64e3960cc   \n",
       "3  record_hash_c8abaccdc3ac06c7cc29ad1dc3030669   \n",
       "4  record_hash_2103cfae97ad58d877be75d158716718   \n",
       "\n",
       "                                               input  \\\n",
       "0                     \"What is the name of article?\"   \n",
       "1               \"How the writer used the AI method?\"   \n",
       "2          \"What is the contribution of this paper?\"   \n",
       "3                             \"Who are the authors?\"   \n",
       "4  \"How many networks have been applied in this p...   \n",
       "\n",
       "                                              output tags  \\\n",
       "0  \"Using Informational Interviews to Find the Ri...    -   \n",
       "1  \"The writer used the AI method by identifying ...    -   \n",
       "2  \"The contribution of this paper lies in provid...    -   \n",
       "3  \"The authors are not explicitly mentioned in t...    -   \n",
       "4  \"In this paper, neural networks have been appl...    -   \n",
       "\n",
       "                                         record_json  \\\n",
       "0  {\"record_id\": \"record_hash_278bf8bc6cd493a3349...   \n",
       "1  {\"record_id\": \"record_hash_ab1f28f7055d269bde7...   \n",
       "2  {\"record_id\": \"record_hash_410555a1f93a52376d8...   \n",
       "3  {\"record_id\": \"record_hash_c8abaccdc3ac06c7cc2...   \n",
       "4  {\"record_id\": \"record_hash_2103cfae97ad58d877b...   \n",
       "\n",
       "                                           cost_json  \\\n",
       "0  {\"n_requests\": 1, \"n_successful_requests\": 1, ...   \n",
       "1  {\"n_requests\": 1, \"n_successful_requests\": 1, ...   \n",
       "2  {\"n_requests\": 1, \"n_successful_requests\": 1, ...   \n",
       "3  {\"n_requests\": 1, \"n_successful_requests\": 1, ...   \n",
       "4  {\"n_requests\": 1, \"n_successful_requests\": 1, ...   \n",
       "\n",
       "                                           perf_json  \\\n",
       "0  {\"start_time\": \"2025-05-16T03:10:39.000634\", \"...   \n",
       "1  {\"start_time\": \"2025-05-16T03:10:40.381736\", \"...   \n",
       "2  {\"start_time\": \"2025-05-16T03:10:42.393181\", \"...   \n",
       "3  {\"start_time\": \"2025-05-16T03:10:44.400690\", \"...   \n",
       "4  {\"start_time\": \"2025-05-16T03:10:45.605907\", \"...   \n",
       "\n",
       "                           ts  Answer Relevance  Groundedness  \\\n",
       "0  2025-05-16T03:10:40.258454               1.0           1.0   \n",
       "1  2025-05-16T03:10:42.282064               1.0           NaN   \n",
       "2  2025-05-16T03:10:44.287177               1.0           NaN   \n",
       "3  2025-05-16T03:10:45.491387               NaN           NaN   \n",
       "4  2025-05-16T03:10:46.846284               NaN           NaN   \n",
       "\n",
       "                              Answer Relevance_calls  \\\n",
       "0  [{'args': {'prompt': 'What is the name of arti...   \n",
       "1  [{'args': {'prompt': 'How the writer used the ...   \n",
       "2  [{'args': {'prompt': 'What is the contribution...   \n",
       "3                                                NaN   \n",
       "4                                                NaN   \n",
       "\n",
       "                                  Groundedness_calls  latency  total_tokens  \\\n",
       "0  [{'args': {'source': 'No one is an expert at e...        1           412   \n",
       "1                                                NaN        1           431   \n",
       "2                                                NaN        1           450   \n",
       "3                                                NaN        1           355   \n",
       "4                                                NaN        1           542   \n",
       "\n",
       "   total_cost  \n",
       "0    0.000623  \n",
       "1    0.000677  \n",
       "2    0.000723  \n",
       "3    0.000539  \n",
       "4    0.000819  "
      ]
     },
     "execution_count": 23,
     "metadata": {},
     "output_type": "execute_result"
    }
   ],
   "source": [
    "records, feedback = tru.get_records_and_feedback(app_ids=[])\n",
    "records.head()"
   ]
  },
  {
   "cell_type": "code",
   "execution_count": 24,
   "metadata": {
    "height": 81
   },
   "outputs": [
    {
     "data": {
      "text/html": [
       "<div>\n",
       "<style scoped>\n",
       "    .dataframe tbody tr th:only-of-type {\n",
       "        vertical-align: middle;\n",
       "    }\n",
       "\n",
       "    .dataframe tbody tr th {\n",
       "        vertical-align: top;\n",
       "    }\n",
       "\n",
       "    .dataframe thead th {\n",
       "        text-align: right;\n",
       "    }\n",
       "</style>\n",
       "<table border=\"1\" class=\"dataframe\">\n",
       "  <thead>\n",
       "    <tr style=\"text-align: right;\">\n",
       "      <th></th>\n",
       "      <th>input</th>\n",
       "      <th>output</th>\n",
       "      <th>Groundedness</th>\n",
       "      <th>Answer Relevance</th>\n",
       "    </tr>\n",
       "  </thead>\n",
       "  <tbody>\n",
       "    <tr>\n",
       "      <th>0</th>\n",
       "      <td>\"What is the name of article?\"</td>\n",
       "      <td>\"Using Informational Interviews to Find the Right Job\"</td>\n",
       "      <td>1.0</td>\n",
       "      <td>1.0</td>\n",
       "    </tr>\n",
       "    <tr>\n",
       "      <th>1</th>\n",
       "      <td>\"How the writer used the AI method?\"</td>\n",
       "      <td>\"The writer used the AI method by identifying a business problem through conversations with domain experts, then brainstorming AI solutions to address the issues raised. This approach involved seeking input from experts on what aspects could be improved and why they were not functioning optimally, followed by generating AI-based solutions to tackle the identified problems.\"</td>\n",
       "      <td>NaN</td>\n",
       "      <td>1.0</td>\n",
       "    </tr>\n",
       "    <tr>\n",
       "      <th>2</th>\n",
       "      <td>\"What is the contribution of this paper?\"</td>\n",
       "      <td>\"The contribution of this paper lies in providing guidance on assessing the feasibility and value of potential solutions in AI projects. It emphasizes the importance of conducting quick proof of concept implementations to gain missing perspectives, determining technical feasibility by reviewing existing work or competitor approaches, and assessing value by consulting domain experts. Additionally, the paper highlights the significance of budgeting for necessary project resources such as data, personnel, time, and integrations, ensuring that all essential elements are considered for successful project completion.\"</td>\n",
       "      <td>NaN</td>\n",
       "      <td>1.0</td>\n",
       "    </tr>\n",
       "    <tr>\n",
       "      <th>3</th>\n",
       "      <td>\"Who are the authors?\"</td>\n",
       "      <td>\"The authors are not explicitly mentioned in the provided context information.\"</td>\n",
       "      <td>NaN</td>\n",
       "      <td>NaN</td>\n",
       "    </tr>\n",
       "    <tr>\n",
       "      <th>4</th>\n",
       "      <td>\"How many networks have been applied in this paper?\"</td>\n",
       "      <td>\"In this paper, neural networks have been applied.\"</td>\n",
       "      <td>NaN</td>\n",
       "      <td>NaN</td>\n",
       "    </tr>\n",
       "    <tr>\n",
       "      <th>5</th>\n",
       "      <td>\"What deep learning methods has been applied?\"</td>\n",
       "      <td>\"Understanding the math behind gradient descent, momentum, and the Adam optimization algorithm has been applied in deep learning methods.\"</td>\n",
       "      <td>NaN</td>\n",
       "      <td>NaN</td>\n",
       "    </tr>\n",
       "    <tr>\n",
       "      <th>6</th>\n",
       "      <td>\"What is the result of the paper?\"</td>\n",
       "      <td>\"The result of the paper is a structured guide that outlines the process of learning foundational technical skills, working on projects, and continuously learning in the field of AI. It emphasizes the importance of gaining foundational technical skills, working on projects to apply those skills, and continuing to learn and grow in the field.\"</td>\n",
       "      <td>NaN</td>\n",
       "      <td>NaN</td>\n",
       "    </tr>\n",
       "    <tr>\n",
       "      <th>7</th>\n",
       "      <td>\"What are the contributions of this paper?\"</td>\n",
       "      <td>\"The contributions of this paper include emphasizing the importance of personal projects and class projects in gaining technical growth, resources, and project opportunities. It also highlights the value of creating value through quick proof of concept implementations to assess feasibility and consulting with domain experts to determine the worth of potential solutions. Additionally, the paper stresses the significance of budgeting for necessary resources such as data, personnel, time, and integrations to ensure project success.\"</td>\n",
       "      <td>NaN</td>\n",
       "      <td>NaN</td>\n",
       "    </tr>\n",
       "  </tbody>\n",
       "</table>\n",
       "</div>"
      ],
      "text/plain": [
       "                                                  input  \\\n",
       "0                        \"What is the name of article?\"   \n",
       "1                  \"How the writer used the AI method?\"   \n",
       "2             \"What is the contribution of this paper?\"   \n",
       "3                                \"Who are the authors?\"   \n",
       "4  \"How many networks have been applied in this paper?\"   \n",
       "5        \"What deep learning methods has been applied?\"   \n",
       "6                    \"What is the result of the paper?\"   \n",
       "7           \"What are the contributions of this paper?\"   \n",
       "\n",
       "                                                                                                                                                                                                                                                                                                                                                                                                                                                                                                                                                                                                                                        output  \\\n",
       "0                                                                                                                                                                                                                                                                                                                                                                                                                                                                                                                                                                                       \"Using Informational Interviews to Find the Right Job\"   \n",
       "1                                                                                                                                                                                                                                                     \"The writer used the AI method by identifying a business problem through conversations with domain experts, then brainstorming AI solutions to address the issues raised. This approach involved seeking input from experts on what aspects could be improved and why they were not functioning optimally, followed by generating AI-based solutions to tackle the identified problems.\"   \n",
       "2  \"The contribution of this paper lies in providing guidance on assessing the feasibility and value of potential solutions in AI projects. It emphasizes the importance of conducting quick proof of concept implementations to gain missing perspectives, determining technical feasibility by reviewing existing work or competitor approaches, and assessing value by consulting domain experts. Additionally, the paper highlights the significance of budgeting for necessary project resources such as data, personnel, time, and integrations, ensuring that all essential elements are considered for successful project completion.\"   \n",
       "3                                                                                                                                                                                                                                                                                                                                                                                                                                                                                                                                                              \"The authors are not explicitly mentioned in the provided context information.\"   \n",
       "4                                                                                                                                                                                                                                                                                                                                                                                                                                                                                                                                                                                          \"In this paper, neural networks have been applied.\"   \n",
       "5                                                                                                                                                                                                                                                                                                                                                                                                                                                                                                   \"Understanding the math behind gradient descent, momentum, and the Adam optimization algorithm has been applied in deep learning methods.\"   \n",
       "6                                                                                                                                                                                                                                                                                     \"The result of the paper is a structured guide that outlines the process of learning foundational technical skills, working on projects, and continuously learning in the field of AI. It emphasizes the importance of gaining foundational technical skills, working on projects to apply those skills, and continuing to learn and grow in the field.\"   \n",
       "7                                                                                      \"The contributions of this paper include emphasizing the importance of personal projects and class projects in gaining technical growth, resources, and project opportunities. It also highlights the value of creating value through quick proof of concept implementations to assess feasibility and consulting with domain experts to determine the worth of potential solutions. Additionally, the paper stresses the significance of budgeting for necessary resources such as data, personnel, time, and integrations to ensure project success.\"   \n",
       "\n",
       "   Groundedness  Answer Relevance  \n",
       "0           1.0               1.0  \n",
       "1           NaN               1.0  \n",
       "2           NaN               1.0  \n",
       "3           NaN               NaN  \n",
       "4           NaN               NaN  \n",
       "5           NaN               NaN  \n",
       "6           NaN               NaN  \n",
       "7           NaN               NaN  "
      ]
     },
     "execution_count": 24,
     "metadata": {},
     "output_type": "execute_result"
    }
   ],
   "source": [
    "import pandas as pd\n",
    "\n",
    "pd.set_option(\"display.max_colwidth\", None)\n",
    "records[[\"input\", \"output\"] + feedback]"
   ]
  },
  {
   "cell_type": "code",
   "execution_count": 25,
   "metadata": {
    "height": 30
   },
   "outputs": [
    {
     "data": {
      "text/html": [
       "<div>\n",
       "<style scoped>\n",
       "    .dataframe tbody tr th:only-of-type {\n",
       "        vertical-align: middle;\n",
       "    }\n",
       "\n",
       "    .dataframe tbody tr th {\n",
       "        vertical-align: top;\n",
       "    }\n",
       "\n",
       "    .dataframe thead th {\n",
       "        text-align: right;\n",
       "    }\n",
       "</style>\n",
       "<table border=\"1\" class=\"dataframe\">\n",
       "  <thead>\n",
       "    <tr style=\"text-align: right;\">\n",
       "      <th></th>\n",
       "      <th>Groundedness</th>\n",
       "      <th>Answer Relevance</th>\n",
       "      <th>latency</th>\n",
       "      <th>total_cost</th>\n",
       "    </tr>\n",
       "    <tr>\n",
       "      <th>app_id</th>\n",
       "      <th></th>\n",
       "      <th></th>\n",
       "      <th></th>\n",
       "      <th></th>\n",
       "    </tr>\n",
       "  </thead>\n",
       "  <tbody>\n",
       "    <tr>\n",
       "      <th>App_1</th>\n",
       "      <td>1.0</td>\n",
       "      <td>1.0</td>\n",
       "      <td>1.0</td>\n",
       "      <td>0.000702</td>\n",
       "    </tr>\n",
       "  </tbody>\n",
       "</table>\n",
       "</div>"
      ],
      "text/plain": [
       "        Groundedness  Answer Relevance  latency  total_cost\n",
       "app_id                                                     \n",
       "App_1            1.0               1.0      1.0    0.000702"
      ]
     },
     "execution_count": 25,
     "metadata": {},
     "output_type": "execute_result"
    }
   ],
   "source": [
    "tru.get_leaderboard(app_ids=[])"
   ]
  },
  {
   "cell_type": "code",
   "execution_count": 26,
   "metadata": {
    "height": 30,
    "id": "6Yp4_e4faZVD"
   },
   "outputs": [
    {
     "name": "stdout",
     "output_type": "stream",
     "text": [
      "Starting dashboard ...\n",
      "Config file already exists. Skipping writing process.\n",
      "Credentials file already exists. Skipping writing process.\n"
     ]
    },
    {
     "data": {
      "application/vnd.jupyter.widget-view+json": {
       "model_id": "1b8f58f45a2442aa9c890448af74a3e1",
       "version_major": 2,
       "version_minor": 0
      },
      "text/plain": [
       "Accordion(children=(VBox(children=(VBox(children=(Label(value='STDOUT'), Output())), VBox(children=(Label(valu…"
      ]
     },
     "metadata": {},
     "output_type": "display_data"
    },
    {
     "name": "stdout",
     "output_type": "stream",
     "text": [
      "Dashboard started at https://s172-29-98-243p38560.lab-aws-production.deeplearning.ai/ .\n"
     ]
    },
    {
     "data": {
      "text/plain": [
       "<Popen: returncode: None args: ['streamlit', 'run', '--server.headless=True'...>"
      ]
     },
     "execution_count": 26,
     "metadata": {},
     "output_type": "execute_result"
    }
   ],
   "source": [
    "tru.run_dashboard()"
   ]
  },
  {
   "cell_type": "code",
   "execution_count": null,
   "metadata": {
    "height": 30
   },
   "outputs": [],
   "source": []
  }
 ],
 "metadata": {
  "accelerator": "GPU",
  "colab": {
   "gpuType": "T4",
   "provenance": [
    {
     "file_id": "1ChKW1kEIUcUVDDTWjpA5Tf_ib3Hhp3uS",
     "timestamp": 1695164681916
    }
   ]
  },
  "kernelspec": {
   "display_name": "Python 3 (ipykernel)",
   "language": "python",
   "name": "python3"
  },
  "language_info": {
   "codemirror_mode": {
    "name": "ipython",
    "version": 3
   },
   "file_extension": ".py",
   "mimetype": "text/x-python",
   "name": "python",
   "nbconvert_exporter": "python",
   "pygments_lexer": "ipython3",
   "version": "3.10.14"
  }
 },
 "nbformat": 4,
 "nbformat_minor": 4
}
